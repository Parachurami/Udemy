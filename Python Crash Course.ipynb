{
 "cells": [
  {
   "cell_type": "code",
   "execution_count": 2,
   "id": "ede26833-33de-4a67-badc-bb9e22084ed6",
   "metadata": {},
   "outputs": [],
   "source": [
    "name = 'James'\n",
    "num = 20"
   ]
  },
  {
   "cell_type": "code",
   "execution_count": 3,
   "id": "bec6cb7a-55e6-4aff-a11c-5edf8441ac40",
   "metadata": {},
   "outputs": [
    {
     "name": "stdout",
     "output_type": "stream",
     "text": [
      "Hello James\n"
     ]
    }
   ],
   "source": [
    "print(f'Hello {name}')"
   ]
  },
  {
   "cell_type": "code",
   "execution_count": 4,
   "id": "f3c70c9e-f4cc-4c07-b998-2c9ab5fbaf3c",
   "metadata": {},
   "outputs": [
    {
     "name": "stdout",
     "output_type": "stream",
     "text": [
      "The number is 20 and the name is James\n"
     ]
    }
   ],
   "source": [
    "print('The number is {one} and the name is {two}'.format(one=num, two=name))"
   ]
  },
  {
   "cell_type": "code",
   "execution_count": 1,
   "id": "abd310d7-3826-438e-97d3-6c947367409b",
   "metadata": {},
   "outputs": [],
   "source": [
    "numbers = [range(12)]"
   ]
  },
  {
   "cell_type": "code",
   "execution_count": 2,
   "id": "8ec0cf2d-e586-44a7-b5db-f263d4a57ce9",
   "metadata": {},
   "outputs": [
    {
     "name": "stdout",
     "output_type": "stream",
     "text": [
      "[range(0, 12)]\n"
     ]
    }
   ],
   "source": [
    "print(numbers)"
   ]
  },
  {
   "cell_type": "code",
   "execution_count": null,
   "id": "dc298f98-6426-4f5f-828d-c883332ce253",
   "metadata": {},
   "outputs": [],
   "source": []
  }
 ],
 "metadata": {
  "kernelspec": {
   "display_name": "Python 3 (ipykernel)",
   "language": "python",
   "name": "python3"
  },
  "language_info": {
   "codemirror_mode": {
    "name": "ipython",
    "version": 3
   },
   "file_extension": ".py",
   "mimetype": "text/x-python",
   "name": "python",
   "nbconvert_exporter": "python",
   "pygments_lexer": "ipython3",
   "version": "3.12.4"
  }
 },
 "nbformat": 4,
 "nbformat_minor": 5
}
